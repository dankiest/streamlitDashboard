{
 "cells": [
  {
   "cell_type": "markdown",
   "id": "b4bcad11",
   "metadata": {},
   "source": [
    "# Exercícios \n",
    "\n",
    "Utilize os arquivos do **RECLAME AQUI** e crie um dashboard com algumas caracteristicas. \n",
    "\n",
    "Empresas: \n",
    "- Hapvida\n",
    "- Nagem\n",
    "- Ibyte\n",
    "\n",
    "O painel deve conter tais informações: \n",
    "\n",
    "1. Série temporal do número de reclamações. \n",
    "\n",
    "2. Frequência de reclamações por estado. \n",
    "\n",
    "3. Frequência de cada tipo de **STATUS**\n",
    "\n",
    "4. Distribuição do tamanho do texto (coluna **DESCRIÇÃO**) \n",
    "\n",
    "\n",
    "Alguns botões devem ser implementados no painel para operar filtros dinâmicos. Alguns exemplos:: \n",
    "\n",
    "1. Seletor da empresa para ser analisada. \n",
    "\n",
    "2. Seletor do estado. \n",
    "\n",
    "3. Seletor por **STATUS**\n",
    "\n",
    "4. Seletor de tamanho do texto \n",
    "\n",
    "Faça o deploy da aplicação. Dicas: \n",
    "\n",
    "https://www.youtube.com/watch?v=vw0I8i7QJRk&list=PLRFQn2r6xhgcDMhp9NCWMqDYGfeeYsn5m&index=16&t=252s\n",
    "\n",
    "https://www.youtube.com/watch?v=HKoOBiAaHGg&t=515s\n",
    "\n",
    "Exemplo do github\n",
    "https://github.com/jlb-gmail/streamlit_teste\n",
    "\n",
    "\n",
    "**OBSERVAÇÃO**\n",
    "\n",
    "A resposta do exercicio é o link do github e o link da aplicação. Coloque-os abaixo.  \n",
    "\n",
    "\n",
    "\n"
   ]
  },
  {
   "cell_type": "markdown",
   "id": "3e6ecbe9",
   "metadata": {},
   "source": [
    "##### link github - https://github.com/dankiest/streamlitDashboard/blob/master/streamlitDashboard.py\n",
    "\n",
    "##### link streamlit - https://appdashboard-7orhovf7necpz82szpzfqm.streamlit.app/"
   ]
  }
 ],
 "metadata": {
  "hide_input": false,
  "kernelspec": {
   "display_name": "Python 3",
   "language": "python",
   "name": "python3"
  },
  "language_info": {
   "codemirror_mode": {
    "name": "ipython",
    "version": 3
   },
   "file_extension": ".py",
   "mimetype": "text/x-python",
   "name": "python",
   "nbconvert_exporter": "python",
   "pygments_lexer": "ipython3",
   "version": "3.8.10"
  },
  "toc": {
   "base_numbering": 1,
   "nav_menu": {},
   "number_sections": true,
   "sideBar": true,
   "skip_h1_title": false,
   "title_cell": "Table of Contents",
   "title_sidebar": "Contents",
   "toc_cell": false,
   "toc_position": {},
   "toc_section_display": true,
   "toc_window_display": false
  }
 },
 "nbformat": 4,
 "nbformat_minor": 5
}
